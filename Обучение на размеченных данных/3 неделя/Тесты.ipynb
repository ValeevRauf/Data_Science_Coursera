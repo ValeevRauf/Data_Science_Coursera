{
 "cells": [
  {
   "cell_type": "markdown",
   "id": "a794239d",
   "metadata": {},
   "source": [
    "# Линейные модели: подготовка признаков\n",
    "\n",
    "## 2 задача\n",
    "Пусть в выборке 4 признака, и мы решили попробовать добавить квадратичные признаки — то есть все квадраты и попарные произведения исходных признаков. Сколько признаков мы получим после такого расширения?\n",
    "\n",
    "$\\textbf{Ответ:}$ $4^2/2 = 8$"
   ]
  },
  {
   "cell_type": "markdown",
   "id": "4a1a8f3a",
   "metadata": {},
   "source": []
  }
 ],
 "metadata": {
  "kernelspec": {
   "display_name": "Python 3",
   "language": "python",
   "name": "python3"
  },
  "language_info": {
   "codemirror_mode": {
    "name": "ipython",
    "version": 3
   },
   "file_extension": ".py",
   "mimetype": "text/x-python",
   "name": "python",
   "nbconvert_exporter": "python",
   "pygments_lexer": "ipython3",
   "version": "3.8.8"
  }
 },
 "nbformat": 4,
 "nbformat_minor": 5
}
