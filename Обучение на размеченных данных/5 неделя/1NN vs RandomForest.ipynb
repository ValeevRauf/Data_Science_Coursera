{
 "cells": [
  {
   "cell_type": "code",
   "execution_count": 23,
   "id": "d07b5aab",
   "metadata": {},
   "outputs": [],
   "source": [
    "from sklearn import datasets, model_selection, ensemble\n",
    "import numpy as np\n",
    "import pandas as pnd\n",
    "from matplotlib import pyplot as plt"
   ]
  },
  {
   "cell_type": "code",
   "execution_count": 6,
   "id": "1f049e19",
   "metadata": {},
   "outputs": [
    {
     "name": "stdout",
     "output_type": "stream",
     "text": [
      "(1348, 64) (1348,) (449, 64) (449,) (1797,) (1797, 64)\n"
     ]
    }
   ],
   "source": [
    "ds = datasets.load_digits()\n",
    "X = ds.data\n",
    "y = ds.target\n",
    "X_train = X[:round(X.shape[0] * 0.75):]\n",
    "X_test = X[round(X.shape[0] * 0.75)::]\n",
    "y_train = y[:round(X.shape[0] * 0.75):]\n",
    "y_test = y[round(X.shape[0] * 0.75)::]\n",
    "print(X_train.shape, y_train.shape, X_test.shape, y_test.shape, y.shape, X.shape)"
   ]
  },
  {
   "cell_type": "code",
   "execution_count": 15,
   "id": "49689151",
   "metadata": {},
   "outputs": [],
   "source": [
    "def MSE(x_1, x_2):\n",
    "    result = 0\n",
    "    for i in range(len(x_1)):\n",
    "        result += (x_1[i] - x_2[i])**2\n",
    "    return result\n",
    "\n",
    "def kNN(X_train, y_train, X):\n",
    "    min = np.infty\n",
    "    nearest = 0\n",
    "    for i in range(len(X_train)):\n",
    "        if MSE(X_train[i], X) < min:\n",
    "            min = MSE(X_train[i], X)\n",
    "            nearest = i\n",
    "    return y_train[nearest]"
   ]
  },
  {
   "cell_type": "code",
   "execution_count": 21,
   "id": "669dd5fd",
   "metadata": {},
   "outputs": [],
   "source": [
    "y_check = []\n",
    "for i in range(len(X_test)):\n",
    "    y_check.append(kNN(X_train, y_train, X_test[i]))"
   ]
  },
  {
   "cell_type": "code",
   "execution_count": 32,
   "id": "8ae5ceec",
   "metadata": {},
   "outputs": [
    {
     "name": "stdout",
     "output_type": "stream",
     "text": [
      "0.03786191536748329\n"
     ]
    }
   ],
   "source": [
    "N = 0\n",
    "for i in range(len(y_check)):\n",
    "    if y_check[i] == y_test[i]:\n",
    "        N += 1\n",
    "print(1 - N/len(y_test))"
   ]
  },
  {
   "cell_type": "code",
   "execution_count": 28,
   "id": "95066903",
   "metadata": {},
   "outputs": [
    {
     "data": {
      "text/plain": [
       "RandomForestClassifier(n_estimators=1000)"
      ]
     },
     "execution_count": 28,
     "metadata": {},
     "output_type": "execute_result"
    }
   ],
   "source": [
    "clf = ensemble.RandomForestClassifier(n_estimators=1000)\n",
    "clf.fit(X_train, y_train)"
   ]
  },
  {
   "cell_type": "code",
   "execution_count": 34,
   "id": "5072531d",
   "metadata": {},
   "outputs": [
    {
     "name": "stdout",
     "output_type": "stream",
     "text": [
      "0.0\n"
     ]
    }
   ],
   "source": [
    "N_2 = 0\n",
    "y_check_2 = clf.predict(X_test)    \n",
    "for i in range(len(y_check)):\n",
    "    if y_check[i] == y_test[i]:\n",
    "        N += 1\n",
    "print(N_2/len(y_test))"
   ]
  },
  {
   "cell_type": "code",
   "execution_count": null,
   "id": "ec90360e",
   "metadata": {},
   "outputs": [],
   "source": []
  }
 ],
 "metadata": {
  "kernelspec": {
   "display_name": "Python 3",
   "language": "python",
   "name": "python3"
  },
  "language_info": {
   "codemirror_mode": {
    "name": "ipython",
    "version": 3
   },
   "file_extension": ".py",
   "mimetype": "text/x-python",
   "name": "python",
   "nbconvert_exporter": "python",
   "pygments_lexer": "ipython3",
   "version": "3.8.8"
  }
 },
 "nbformat": 4,
 "nbformat_minor": 5
}
