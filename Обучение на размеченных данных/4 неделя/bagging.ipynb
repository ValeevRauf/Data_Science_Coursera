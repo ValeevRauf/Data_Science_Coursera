{
 "cells": [
  {
   "cell_type": "code",
   "execution_count": 2,
   "id": "85edf052",
   "metadata": {},
   "outputs": [],
   "source": [
    "from sklearn import datasets, model_selection, tree, ensemble"
   ]
  },
  {
   "cell_type": "code",
   "execution_count": 3,
   "id": "e2c5028a",
   "metadata": {},
   "outputs": [],
   "source": [
    "ds = datasets.load_digits()"
   ]
  },
  {
   "cell_type": "code",
   "execution_count": 4,
   "id": "fa6d6ecd",
   "metadata": {},
   "outputs": [],
   "source": [
    "X = ds['data']\n",
    "y = ds['target']"
   ]
  },
  {
   "cell_type": "code",
   "execution_count": 5,
   "id": "c9787cf5",
   "metadata": {
    "scrolled": true
   },
   "outputs": [
    {
     "data": {
      "text/plain": [
       "array([[ 0.,  0.,  5., ...,  0.,  0.,  0.],\n",
       "       [ 0.,  0.,  0., ..., 10.,  0.,  0.],\n",
       "       [ 0.,  0.,  0., ..., 16.,  9.,  0.],\n",
       "       ...,\n",
       "       [ 0.,  0.,  1., ...,  6.,  0.,  0.],\n",
       "       [ 0.,  0.,  2., ..., 12.,  0.,  0.],\n",
       "       [ 0.,  0., 10., ..., 12.,  1.,  0.]])"
      ]
     },
     "execution_count": 5,
     "metadata": {},
     "output_type": "execute_result"
    }
   ],
   "source": [
    "X"
   ]
  },
  {
   "cell_type": "code",
   "execution_count": 6,
   "id": "369bcd5d",
   "metadata": {},
   "outputs": [
    {
     "data": {
      "text/plain": [
       "array([0, 1, 2, ..., 8, 9, 8])"
      ]
     },
     "execution_count": 6,
     "metadata": {},
     "output_type": "execute_result"
    }
   ],
   "source": [
    "y"
   ]
  },
  {
   "cell_type": "code",
   "execution_count": 8,
   "id": "1380696c",
   "metadata": {},
   "outputs": [],
   "source": [
    "def write_answer(i, a):\n",
    "    f = open('task' + str(i) + '.txt', 'w')\n",
    "    f.write(str(a))\n",
    "    print(a)"
   ]
  },
  {
   "cell_type": "code",
   "execution_count": 15,
   "id": "ba151104",
   "metadata": {},
   "outputs": [
    {
     "name": "stdout",
     "output_type": "stream",
     "text": [
      "0.8291527001862198\n"
     ]
    }
   ],
   "source": [
    "#пункт 1\n",
    "clf = tree.DecisionTreeClassifier()\n",
    "write_answer(1,  model_selection.cross_val_score(clf, X, y, cv = 10).mean())"
   ]
  },
  {
   "cell_type": "code",
   "execution_count": 17,
   "id": "8754625c",
   "metadata": {},
   "outputs": [
    {
     "name": "stdout",
     "output_type": "stream",
     "text": [
      "0.9214959652389819\n"
     ]
    }
   ],
   "source": [
    "#пункт 2\n",
    "clf_2 = ensemble.BaggingClassifier(n_estimators=100)\n",
    "write_answer(2, model_selection.cross_val_score(clf_2, X, y, cv = 10).mean())"
   ]
  },
  {
   "cell_type": "code",
   "execution_count": 69,
   "id": "441a3e59",
   "metadata": {},
   "outputs": [
    {
     "name": "stdout",
     "output_type": "stream",
     "text": [
      "0.9237585350713842\n"
     ]
    }
   ],
   "source": [
    "#3\n",
    "clf_3 = ensemble.BaggingClassifier(n_estimators=100, max_features=8)\n",
    "write_answer(3, model_selection.cross_val_score(clf_3, X, y, cv = 10).mean())"
   ]
  },
  {
   "cell_type": "code",
   "execution_count": 70,
   "id": "ed97de8e",
   "metadata": {},
   "outputs": [
    {
     "name": "stdout",
     "output_type": "stream",
     "text": [
      "0.9465673494723774\n"
     ]
    }
   ],
   "source": [
    "#4\n",
    "clf_4 = ensemble.BaggingClassifier(tree.DecisionTreeClassifier(max_features=8), n_estimators=100)\n",
    "write_answer(4, model_selection.cross_val_score(clf_4, X, y, cv = 10).mean())"
   ]
  },
  {
   "cell_type": "code",
   "execution_count": 75,
   "id": "c86f9698",
   "metadata": {},
   "outputs": [],
   "source": [
    "from matplotlib import pyplot as plt"
   ]
  },
  {
   "cell_type": "code",
   "execution_count": 83,
   "id": "f273f2f9",
   "metadata": {},
   "outputs": [],
   "source": [
    "number_estimators = np.arange(5, 150, 5)\n",
    "scores = []\n",
    "for i in number_estimators:\n",
    "    clf_5 = ensemble.RandomForestClassifier(n_estimators=i, max_features=8)\n",
    "    scores.append(model_selection.cross_val_score(clf_5, X, y, cv = 10).mean())"
   ]
  },
  {
   "cell_type": "code",
   "execution_count": 84,
   "id": "080b5b00",
   "metadata": {},
   "outputs": [
    {
     "data": {
      "image/png": "[encoded data removed]",
      "text/plain": [
       "<Figure size 432x288 with 1 Axes>"
      ]
     },
     "metadata": {
      "needs_background": "light"
     },
     "output_type": "display_data"
    }
   ],
   "source": [
    "plt.grid(True)\n",
    "plt.plot(number_estimators, scores)\n",
    "plt.show()"
   ]
  },
  {
   "cell_type": "code",
   "execution_count": 87,
   "id": "90101b0c",
   "metadata": {},
   "outputs": [],
   "source": [
    "number_features = np.arange(4, 64, 4)\n",
    "scores = []\n",
    "for i in number_features:\n",
    "    clf_5 = ensemble.RandomForestClassifier(n_estimators=100, max_features=i)\n",
    "    scores.append(model_selection.cross_val_score(clf_5, X, y, cv = 10).mean())"
   ]
  },
  {
   "cell_type": "code",
   "execution_count": 89,
   "id": "972c67a7",
   "metadata": {},
   "outputs": [
    {
     "data": {
      "image/png": "[encoded data removed]",
      "text/plain": [
       "<Figure size 432x288 with 1 Axes>"
      ]
     },
     "metadata": {
      "needs_background": "light"
     },
     "output_type": "display_data"
    }
   ],
   "source": [
    "plt.grid(True)\n",
    "plt.plot(number_features, scores)\n",
    "plt.show()"
   ]
  },
  {
   "cell_type": "code",
   "execution_count": 91,
   "id": "612e082e",
   "metadata": {},
   "outputs": [],
   "source": [
    "max_depths = np.arange(1, 20, 1)\n",
    "scores = []\n",
    "for i in max_depths:\n",
    "    clf_5 = ensemble.RandomForestClassifier(n_estimators=100, max_features=8, max_depth=i)\n",
    "    scores.append(model_selection.cross_val_score(clf_5, X, y, cv = 10).mean())"
   ]
  },
  {
   "cell_type": "code",
   "execution_count": 92,
   "id": "e9724e9a",
   "metadata": {},
   "outputs": [
    {
     "data": {
      "image/png": "[encoded data removed]",
      "text/plain": [
       "<Figure size 432x288 with 1 Axes>"
      ]
     },
     "metadata": {
      "needs_background": "light"
     },
     "output_type": "display_data"
    }
   ],
   "source": [
    "plt.grid(True)\n",
    "plt.plot(max_depths, scores)\n",
    "plt.show()"
   ]
  },
  {
   "cell_type": "code",
   "execution_count": null,
   "id": "429d393e",
   "metadata": {},
   "outputs": [],
   "source": []
  }
 ],
 "metadata": {
  "kernelspec": {
   "display_name": "Python 3",
   "language": "python",
   "name": "python3"
  },
  "language_info": {
   "codemirror_mode": {
    "name": "ipython",
    "version": 3
   },
   "file_extension": ".py",
   "mimetype": "text/x-python",
   "name": "python",
   "nbconvert_exporter": "python",
   "pygments_lexer": "ipython3",
   "version": "3.8.8"
  }
 },
 "nbformat": 4,
 "nbformat_minor": 5
}
