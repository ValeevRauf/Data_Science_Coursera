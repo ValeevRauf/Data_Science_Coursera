{
 "cells": [
  {
   "cell_type": "code",
   "execution_count": 30,
   "id": "ada8b81b",
   "metadata": {},
   "outputs": [],
   "source": [
    "import string"
   ]
  },
  {
   "cell_type": "code",
   "execution_count": 3,
   "id": "300082fb",
   "metadata": {},
   "outputs": [],
   "source": [
    "file = open('sentences.txt')"
   ]
  },
  {
   "cell_type": "code",
   "execution_count": 4,
   "id": "17d586f8",
   "metadata": {},
   "outputs": [],
   "source": [
    "sentences = file.readlines()"
   ]
  },
  {
   "cell_type": "code",
   "execution_count": 28,
   "id": "e4b9d879",
   "metadata": {},
   "outputs": [],
   "source": [
    "for i in range(len(sentences)):\n",
    "    sentences[i] = sentences[i].lower()"
   ]
  },
  {
   "cell_type": "code",
   "execution_count": 29,
   "id": "c671bbd5",
   "metadata": {},
   "outputs": [],
   "source": [
    "words = [x.split() for x in sentences]"
   ]
  },
  {
   "cell_type": "code",
   "execution_count": 98,
   "id": "fade86bf",
   "metadata": {},
   "outputs": [],
   "source": [
    "exclude = set(string.punctuation)\n",
    "for i in range(len(words)):\n",
    "    for j in range(len(words[i])):\n",
    "        words[i][j] = ''.join(ch for ch in words[i][j] if ch not in exclude)\n",
    "    if (words[i][j] == ''):\n",
    "        words[i].pop(j)\n",
    "    elif words[i][j].isdigit():\n",
    "        words[i].pop(j)"
   ]
  },
  {
   "cell_type": "code",
   "execution_count": 129,
   "id": "a170f6f2",
   "metadata": {},
   "outputs": [],
   "source": [
    "help_dict = dict()\n",
    "d = 0\n",
    "for i in range(len(words)):\n",
    "    for j in range(len(words[i])):\n",
    "        if help_dict.get(words[i][j]) == None:\n",
    "            help_dict[words[i][j]] = d\n",
    "            d += 1\n",
    "words_dict = dict()\n",
    "for i in help_dict.keys():\n",
    "    words_dict[help_dict.get(i)] = i "
   ]
  },
  {
   "cell_type": "code",
   "execution_count": 108,
   "id": "e8f96a53",
   "metadata": {},
   "outputs": [],
   "source": [
    "n = len(sentences)    "
   ]
  },
  {
   "cell_type": "code",
   "execution_count": 109,
   "id": "ba26d754",
   "metadata": {},
   "outputs": [],
   "source": [
    "import numpy as np"
   ]
  },
  {
   "cell_type": "code",
   "execution_count": 134,
   "id": "fb139177",
   "metadata": {},
   "outputs": [],
   "source": [
    "statmatrix = np.zeros((n, d))"
   ]
  },
  {
   "cell_type": "code",
   "execution_count": 136,
   "id": "f6f9f0cd",
   "metadata": {},
   "outputs": [],
   "source": [
    "for i in range(n):\n",
    "    for j in range(d):\n",
    "        c = 0\n",
    "        for a in words[i]:\n",
    "            if a == words_dict.get(j):\n",
    "                c += 1\n",
    "        statmatrix[i, j] = c"
   ]
  },
  {
   "cell_type": "code",
   "execution_count": 137,
   "id": "8ed37252",
   "metadata": {},
   "outputs": [
    {
     "data": {
      "text/plain": [
       "array([[1., 1., 1., ..., 0., 0., 0.],\n",
       "       [0., 0., 1., ..., 0., 0., 0.],\n",
       "       [0., 0., 2., ..., 0., 0., 0.],\n",
       "       ...,\n",
       "       [0., 0., 0., ..., 0., 0., 0.],\n",
       "       [1., 0., 1., ..., 0., 0., 0.],\n",
       "       [0., 0., 1., ..., 1., 1., 1.]])"
      ]
     },
     "execution_count": 137,
     "metadata": {},
     "output_type": "execute_result"
    }
   ],
   "source": [
    "statmatrix"
   ]
  },
  {
   "cell_type": "code",
   "execution_count": 140,
   "id": "be7022c4",
   "metadata": {},
   "outputs": [],
   "source": [
    "from scipy.spatial import distance"
   ]
  },
  {
   "cell_type": "code",
   "execution_count": 147,
   "id": "59e87da6",
   "metadata": {},
   "outputs": [],
   "source": [
    "a = [distance.cosine(statmatrix[0, ::1], statmatrix[i]) for i in range(1, n)]"
   ]
  },
  {
   "cell_type": "code",
   "execution_count": 148,
   "id": "3241df87",
   "metadata": {
    "scrolled": false
   },
   "outputs": [
    {
     "data": {
      "text/plain": [
       "[0.9527544408738466,\n",
       " 0.8644738145642124,\n",
       " 0.8951715163278082,\n",
       " 0.7770887149698589,\n",
       " 0.9430197117701811,\n",
       " 0.7518541665072674,\n",
       " 0.9258750683338899,\n",
       " 0.8938011511892817,\n",
       " 0.9512049963525734,\n",
       " 0.8363365823230057,\n",
       " 0.8804771390665607,\n",
       " 0.8396432548525454,\n",
       " 0.8804771390665607,\n",
       " 0.8773721321030068,\n",
       " 0.9454455274410019,\n",
       " 0.8288158029956348,\n",
       " 0.9572039507489087,\n",
       " 0.9442721787424647,\n",
       " 0.8885443574849294,\n",
       " 0.8396432548525454,\n",
       " 0.8290591353105431]"
      ]
     },
     "execution_count": 148,
     "metadata": {},
     "output_type": "execute_result"
    }
   ],
   "source": [
    "a"
   ]
  },
  {
   "cell_type": "code",
   "execution_count": null,
   "id": "4553437d",
   "metadata": {},
   "outputs": [],
   "source": []
  },
  {
   "cell_type": "markdown",
   "id": "c1d077f8",
   "metadata": {},
   "source": [
    "4, 6"
   ]
  }
 ],
 "metadata": {
  "kernelspec": {
   "display_name": "Python 3",
   "language": "python",
   "name": "python3"
  },
  "language_info": {
   "codemirror_mode": {
    "name": "ipython",
    "version": 3
   },
   "file_extension": ".py",
   "mimetype": "text/x-python",
   "name": "python",
   "nbconvert_exporter": "python",
   "pygments_lexer": "ipython3",
   "version": "3.8.8"
  }
 },
 "nbformat": 4,
 "nbformat_minor": 5
}
